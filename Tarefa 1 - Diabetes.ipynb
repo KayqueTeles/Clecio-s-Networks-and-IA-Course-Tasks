{
  "nbformat": 4,
  "nbformat_minor": 0,
  "metadata": {
    "colab": {
      "name": "Tarefa 1 - Diabetes.ipynb",
      "provenance": []
    },
    "kernelspec": {
      "name": "python3",
      "display_name": "Python 3"
    }
  },
  "cells": [
    {
      "cell_type": "markdown",
      "metadata": {
        "id": "n-5RJEA5QOn3"
      },
      "source": [
        "# TASK 1: DIABETES\n",
        "### Build a network which is able to diagnose diabetes, given some pacients' entries.\n",
        "\n",
        "We're gonna need pandas to import the archives, from the following link: https://clearnightsrthebest.com/teaching-ensino/ - we're gonna use wget to make the download.\n",
        "This code was build with great help from the site: https://towardsdatascience.com/building-our-first-neural-network-in-keras-bdc8abbc17f5"
      ]
    },
    {
      "cell_type": "code",
      "metadata": {
        "id": "CWSG8qUvQjxu",
        "outputId": "4abb169b-0e9f-4ad0-ba4d-53326faeed82",
        "colab": {
          "base_uri": "https://localhost:8080/",
          "height": 199
        }
      },
      "source": [
        "!pip install wget"
      ],
      "execution_count": 1,
      "outputs": [
        {
          "output_type": "stream",
          "text": [
            "Collecting wget\n",
            "  Downloading https://files.pythonhosted.org/packages/47/6a/62e288da7bcda82b935ff0c6cfe542970f04e29c756b0e147251b2fb251f/wget-3.2.zip\n",
            "Building wheels for collected packages: wget\n",
            "  Building wheel for wget (setup.py) ... \u001b[?25l\u001b[?25hdone\n",
            "  Created wheel for wget: filename=wget-3.2-cp36-none-any.whl size=9682 sha256=7159f449d588dccfa00c47cddad8d6265800ce2e83aa20b4aab50df637ce1da4\n",
            "  Stored in directory: /root/.cache/pip/wheels/40/15/30/7d8f7cea2902b4db79e3fea550d7d7b85ecb27ef992b618f3f\n",
            "Successfully built wget\n",
            "Installing collected packages: wget\n",
            "Successfully installed wget-3.2\n"
          ],
          "name": "stdout"
        }
      ]
    },
    {
      "cell_type": "markdown",
      "metadata": {
        "id": "m_7fzitWQla9"
      },
      "source": [
        "NOW, WE'RE GONNA IMPORT THE DATASET AND MAKE THE DOWNLOAD AND EXTRACTION IF NEEDED!"
      ]
    },
    {
      "cell_type": "code",
      "metadata": {
        "id": "ceb2uFGLQm95",
        "outputId": "8515fbb3-6c93-4b70-db8e-d6495356c17c",
        "colab": {
          "base_uri": "https://localhost:8080/",
          "height": 71
        }
      },
      "source": [
        "import wget\n",
        "import zipfile\n",
        "from zipfile import ZipFile\n",
        "import os\n",
        "\n",
        "if os.path.exists('./dados_dia.zip'):\n",
        "    print(' ** Dataset already downloaded!')\n",
        "    if os.path.exists('Pima-Diabetes.csv'):\n",
        "        print(' ** Dataset already extracted! You may proceed.')\n",
        "    else:\n",
        "        print(' ** Extracting files...')\n",
        "        with zipfile.ZipFile(\"dados_dia.zip\", 'r') as zip_ref:\n",
        "            zip_ref.extractall()\n",
        "        print(' ** Done! Your dataset is ready to rock.')\n",
        "else:\n",
        "    print(' ** Downloading files...')\n",
        "    wget.download('https://clearskiesrbest.files.wordpress.com/2020/09/dados_dia.zip')\n",
        "    print(\" ** Download successful. Extracting files...\")\n",
        "    with zipfile.ZipFile(\"dados_dia.zip\", 'r') as zip_ref:\n",
        "        zip_ref.extractall() \n",
        "    print(' ** Done! Your dataset is ready to rock.')"
      ],
      "execution_count": 2,
      "outputs": [
        {
          "output_type": "stream",
          "text": [
            " ** Downloading files...\n",
            " ** Download successful. Extracting files...\n",
            " ** Done! Your dataset is ready to rock.\n"
          ],
          "name": "stdout"
        }
      ]
    },
    {
      "cell_type": "markdown",
      "metadata": {
        "id": "52udP4SAS7xY"
      },
      "source": [
        "NEXT STEP: Import data from the downloaded archives into Python code."
      ]
    },
    {
      "cell_type": "code",
      "metadata": {
        "id": "LjEEzYyJUVoN",
        "outputId": "0ab225b7-d71b-4e32-e110-57b21188fd09",
        "colab": {
          "base_uri": "https://localhost:8080/",
          "height": 737
        }
      },
      "source": [
        "import pandas as pd\n",
        "import numpy as np\n",
        "\n",
        "train_diab = pd.read_csv('Pima-Diabetes.csv', header=None)\n",
        "test_diab = pd.read_csv('Test-Group-2.csv', header=None)\n",
        "print(' ** Training set shape is:', train_diab.shape)\n",
        "print(' ** Test set is:', test_diab.shape)\n",
        "\n",
        "#print(train_diab.describe())\n",
        "print(train_diab)\n",
        "print('\\n ** Checking data you may realize that there are some missing data.')\n",
        "print(' ** Replacing missing data with median values for that column...')\n",
        "\n",
        "columns = [1, 2, 3, 4, 5, 6]\n",
        "print(' ** Columns with missing data: ', columns)\n",
        "medians = dict()\n",
        "for i in columns:\n",
        "    medians[i] = train_diab.iloc[:,i].median()\n",
        "    train_diab.iloc[:,i] = train_diab.iloc[:,i].replace(to_replace=0,\n",
        "                                                        value=medians[i])\n",
        "    test_diab.iloc[:,i] = test_diab.iloc[:,i].replace(to_replace=0,\n",
        "                                                        value=medians[i])\n",
        "\n",
        "print(' ** Check if it worked below.')\n",
        "print(train_diab)\n",
        "\n",
        "print(' ** Converting pandas dataframe to np.arrays of x_data (inputs) \\\n",
        "and y_data (labels).')\n",
        "x_data = train_diab.iloc[:,:8].values\n",
        "y_data = train_diab.iloc[:,8:9].values\n",
        "x_test = test_diab.iloc[:,:8].values\n",
        "\n",
        "###y_test is missing on dataset so we're importing it right from here.\n",
        "y_test = (0, 1, 0, 1, 0, 0, 0, 0, 1, 0)\n",
        "\n",
        "print(' ** x_data: %s, y_data: %s, x_test: %s, y_test: %s. \\\n",
        "' % (x_data.shape, y_data.shape, x_test.shape, len(y_test)))\n",
        "\n",
        "print(' ** Normalizing data...')\n",
        "from sklearn.preprocessing import StandardScaler\n",
        "SS = StandardScaler()\n",
        "x_data = SS.fit_transform(x_data)\n",
        "x_test = SS.transform(x_test)    #TIRAMOS O FIT PARA USAR O MESMO SCALER PARA AMBOS OS SETS!\n",
        "#O PROCESSO DE NORMALIZAÇÃO SIGNIFICA EXATAMENTE ISSO: DEIXAR OS DADOS\n",
        "#MAIS OU MENOS NAS MESMAS ESCALAS, DE MODO A FACILITAR A SUA COMPUTAÇÃO\n",
        "\n",
        "#print(x_data)\n",
        "\n",
        "print(' ** Encoding classes to binary values...')\n",
        "from sklearn.preprocessing import OneHotEncoder\n",
        "OHE = OneHotEncoder()\n",
        "y_data = OHE.fit_transform(y_data).toarray()\n",
        "\n",
        "print(' ** Done!')"
      ],
      "execution_count": 3,
      "outputs": [
        {
          "output_type": "stream",
          "text": [
            " ** Training set shape is: (758, 9)\n",
            " ** Test set is: (10, 8)\n",
            "     0    1   2   3    4     5      6   7  8\n",
            "0    6  148  72  35    0  33.6  0.627  50  1\n",
            "1    1   85  66  29    0  26.6  0.351  31  0\n",
            "2    8  183  64   0    0  23.3  0.672  32  1\n",
            "3    1   89  66  23   94  28.1  0.167  21  0\n",
            "4    0  137  40  35  168  43.1  2.288  33  1\n",
            "..  ..  ...  ..  ..  ...   ...    ...  .. ..\n",
            "753  0  181  88  44  510  43.3  0.222  26  1\n",
            "754  8  154  78  32    0  32.4  0.443  45  1\n",
            "755  1  128  88  39  110  36.5  1.057  37  1\n",
            "756  7  137  90  41    0  32.0  0.391  39  0\n",
            "757  0  123  72   0    0  36.3  0.258  52  1\n",
            "\n",
            "[758 rows x 9 columns]\n",
            "\n",
            " ** Checking data you may realize that there are some missing data.\n",
            " ** Replacing missing data with median values for that column...\n",
            " ** Columns with missing data:  [1, 2, 3, 4, 5, 6]\n",
            " ** Check if it worked below.\n",
            "     0    1   2   3    4     5      6   7  8\n",
            "0    6  148  72  35   36  33.6  0.627  50  1\n",
            "1    1   85  66  29   36  26.6  0.351  31  0\n",
            "2    8  183  64  23   36  23.3  0.672  32  1\n",
            "3    1   89  66  23   94  28.1  0.167  21  0\n",
            "4    0  137  40  35  168  43.1  2.288  33  1\n",
            "..  ..  ...  ..  ..  ...   ...    ...  .. ..\n",
            "753  0  181  88  44  510  43.3  0.222  26  1\n",
            "754  8  154  78  32   36  32.4  0.443  45  1\n",
            "755  1  128  88  39  110  36.5  1.057  37  1\n",
            "756  7  137  90  41   36  32.0  0.391  39  0\n",
            "757  0  123  72  23   36  36.3  0.258  52  1\n",
            "\n",
            "[758 rows x 9 columns]\n",
            " ** Converting pandas dataframe to np.arrays of x_data (inputs) and y_data (labels).\n",
            " ** x_data: (758, 8), y_data: (758, 1), x_test: (10, 8), y_test: 10. \n",
            " ** Normalizing data...\n",
            " ** Encoding classes to binary values...\n",
            " ** Done!\n"
          ],
          "name": "stdout"
        }
      ]
    },
    {
      "cell_type": "markdown",
      "metadata": {
        "id": "n_C1Mld4WrwM"
      },
      "source": [
        "NEXT: NOW IT'S TIME TO BUILD THE MODEL!"
      ]
    },
    {
      "cell_type": "code",
      "metadata": {
        "id": "KiPlN3Q_WvBw",
        "outputId": "48bd199c-e959-4337-cbde-ac241ba58e75",
        "colab": {
          "base_uri": "https://localhost:8080/",
          "height": 1000
        }
      },
      "source": [
        "import keras\n",
        "from tensorflow.keras.models import Sequential\n",
        "from tensorflow.keras.layers import Dense, Dropout, BatchNormalization\n",
        "import numpy as np\n",
        "from keras.utils import to_categorical\n",
        "\n",
        "######MODEL PARAMETERS\n",
        "num_epochs = 50\n",
        "batch_sz = 16\n",
        "train_val_split = 0.2\n",
        "\n",
        "######BUILDING MODEL\n",
        "model = Sequential()\n",
        "model.add(Dense(64, input_dim=8, activation='relu'))\n",
        "model.add(BatchNormalization())\n",
        "model.add(Dropout(0.1))\n",
        "model.add(Dense(32, activation='relu'))\n",
        "model.add(BatchNormalization())\n",
        "model.add(Dropout(0.1))\n",
        "model.add(Dense(2, activation='softmax'))\n",
        "\n",
        "############COMPILING MODEL.\n",
        "model.compile(\n",
        "  optimizer='adam',\n",
        "  loss='categorical_crossentropy',\n",
        "  metrics=['accuracy'],\n",
        ")\n",
        "\n",
        "model.summary()\n",
        "\n",
        "##############TRAINING MODEL\n",
        "history = model.fit(\n",
        "  x_data, \n",
        "  y_data, \n",
        "  epochs = num_epochs,\n",
        "  shuffle = True,\n",
        "  validation_split = train_val_split,\n",
        "  batch_size = batch_sz,\n",
        ")"
      ],
      "execution_count": 4,
      "outputs": [
        {
          "output_type": "stream",
          "text": [
            "Model: \"sequential\"\n",
            "_________________________________________________________________\n",
            "Layer (type)                 Output Shape              Param #   \n",
            "=================================================================\n",
            "dense (Dense)                (None, 64)                576       \n",
            "_________________________________________________________________\n",
            "batch_normalization (BatchNo (None, 64)                256       \n",
            "_________________________________________________________________\n",
            "dropout (Dropout)            (None, 64)                0         \n",
            "_________________________________________________________________\n",
            "dense_1 (Dense)              (None, 32)                2080      \n",
            "_________________________________________________________________\n",
            "batch_normalization_1 (Batch (None, 32)                128       \n",
            "_________________________________________________________________\n",
            "dropout_1 (Dropout)          (None, 32)                0         \n",
            "_________________________________________________________________\n",
            "dense_2 (Dense)              (None, 2)                 66        \n",
            "=================================================================\n",
            "Total params: 3,106\n",
            "Trainable params: 2,914\n",
            "Non-trainable params: 192\n",
            "_________________________________________________________________\n",
            "Epoch 1/50\n",
            "38/38 [==============================] - 0s 7ms/step - loss: 0.8122 - accuracy: 0.6089 - val_loss: 0.6003 - val_accuracy: 0.6842\n",
            "Epoch 2/50\n",
            "38/38 [==============================] - 0s 2ms/step - loss: 0.6063 - accuracy: 0.7129 - val_loss: 0.5616 - val_accuracy: 0.6711\n",
            "Epoch 3/50\n",
            "38/38 [==============================] - 0s 3ms/step - loss: 0.5578 - accuracy: 0.7129 - val_loss: 0.5577 - val_accuracy: 0.6842\n",
            "Epoch 4/50\n",
            "38/38 [==============================] - 0s 2ms/step - loss: 0.5117 - accuracy: 0.7343 - val_loss: 0.5353 - val_accuracy: 0.7039\n",
            "Epoch 5/50\n",
            "38/38 [==============================] - 0s 2ms/step - loss: 0.4754 - accuracy: 0.7591 - val_loss: 0.5070 - val_accuracy: 0.7237\n",
            "Epoch 6/50\n",
            "38/38 [==============================] - 0s 2ms/step - loss: 0.4736 - accuracy: 0.7591 - val_loss: 0.4945 - val_accuracy: 0.7434\n",
            "Epoch 7/50\n",
            "38/38 [==============================] - 0s 3ms/step - loss: 0.4681 - accuracy: 0.7954 - val_loss: 0.4618 - val_accuracy: 0.7763\n",
            "Epoch 8/50\n",
            "38/38 [==============================] - 0s 2ms/step - loss: 0.4654 - accuracy: 0.7723 - val_loss: 0.4602 - val_accuracy: 0.7961\n",
            "Epoch 9/50\n",
            "38/38 [==============================] - 0s 2ms/step - loss: 0.4790 - accuracy: 0.7756 - val_loss: 0.4654 - val_accuracy: 0.7829\n",
            "Epoch 10/50\n",
            "38/38 [==============================] - 0s 2ms/step - loss: 0.4612 - accuracy: 0.7723 - val_loss: 0.4408 - val_accuracy: 0.7829\n",
            "Epoch 11/50\n",
            "38/38 [==============================] - 0s 3ms/step - loss: 0.4333 - accuracy: 0.7871 - val_loss: 0.4531 - val_accuracy: 0.7961\n",
            "Epoch 12/50\n",
            "38/38 [==============================] - 0s 3ms/step - loss: 0.4708 - accuracy: 0.7789 - val_loss: 0.4484 - val_accuracy: 0.7895\n",
            "Epoch 13/50\n",
            "38/38 [==============================] - 0s 2ms/step - loss: 0.4579 - accuracy: 0.7673 - val_loss: 0.4517 - val_accuracy: 0.7697\n",
            "Epoch 14/50\n",
            "38/38 [==============================] - 0s 2ms/step - loss: 0.4344 - accuracy: 0.7937 - val_loss: 0.4534 - val_accuracy: 0.7829\n",
            "Epoch 15/50\n",
            "38/38 [==============================] - 0s 2ms/step - loss: 0.4319 - accuracy: 0.7888 - val_loss: 0.4464 - val_accuracy: 0.7895\n",
            "Epoch 16/50\n",
            "38/38 [==============================] - 0s 2ms/step - loss: 0.3983 - accuracy: 0.8135 - val_loss: 0.4431 - val_accuracy: 0.7895\n",
            "Epoch 17/50\n",
            "38/38 [==============================] - 0s 2ms/step - loss: 0.4312 - accuracy: 0.8003 - val_loss: 0.4592 - val_accuracy: 0.7829\n",
            "Epoch 18/50\n",
            "38/38 [==============================] - 0s 2ms/step - loss: 0.4372 - accuracy: 0.8036 - val_loss: 0.4538 - val_accuracy: 0.7895\n",
            "Epoch 19/50\n",
            "38/38 [==============================] - 0s 2ms/step - loss: 0.4283 - accuracy: 0.8119 - val_loss: 0.4637 - val_accuracy: 0.7829\n",
            "Epoch 20/50\n",
            "38/38 [==============================] - 0s 2ms/step - loss: 0.4102 - accuracy: 0.8102 - val_loss: 0.4579 - val_accuracy: 0.7895\n",
            "Epoch 21/50\n",
            "38/38 [==============================] - 0s 2ms/step - loss: 0.4097 - accuracy: 0.8185 - val_loss: 0.4473 - val_accuracy: 0.7895\n",
            "Epoch 22/50\n",
            "38/38 [==============================] - 0s 2ms/step - loss: 0.4337 - accuracy: 0.8152 - val_loss: 0.4620 - val_accuracy: 0.7829\n",
            "Epoch 23/50\n",
            "38/38 [==============================] - 0s 2ms/step - loss: 0.4241 - accuracy: 0.7904 - val_loss: 0.4608 - val_accuracy: 0.7895\n",
            "Epoch 24/50\n",
            "38/38 [==============================] - 0s 2ms/step - loss: 0.3905 - accuracy: 0.8218 - val_loss: 0.4542 - val_accuracy: 0.7829\n",
            "Epoch 25/50\n",
            "38/38 [==============================] - 0s 2ms/step - loss: 0.4332 - accuracy: 0.7904 - val_loss: 0.4634 - val_accuracy: 0.7829\n",
            "Epoch 26/50\n",
            "38/38 [==============================] - 0s 3ms/step - loss: 0.4275 - accuracy: 0.7822 - val_loss: 0.4593 - val_accuracy: 0.7763\n",
            "Epoch 27/50\n",
            "38/38 [==============================] - 0s 2ms/step - loss: 0.3977 - accuracy: 0.8185 - val_loss: 0.4564 - val_accuracy: 0.7829\n",
            "Epoch 28/50\n",
            "38/38 [==============================] - 0s 2ms/step - loss: 0.3917 - accuracy: 0.8333 - val_loss: 0.4719 - val_accuracy: 0.7632\n",
            "Epoch 29/50\n",
            "38/38 [==============================] - 0s 2ms/step - loss: 0.4076 - accuracy: 0.8086 - val_loss: 0.4551 - val_accuracy: 0.7697\n",
            "Epoch 30/50\n",
            "38/38 [==============================] - 0s 2ms/step - loss: 0.3673 - accuracy: 0.8432 - val_loss: 0.4645 - val_accuracy: 0.7697\n",
            "Epoch 31/50\n",
            "38/38 [==============================] - 0s 2ms/step - loss: 0.4390 - accuracy: 0.7904 - val_loss: 0.4629 - val_accuracy: 0.7763\n",
            "Epoch 32/50\n",
            "38/38 [==============================] - 0s 2ms/step - loss: 0.3971 - accuracy: 0.8053 - val_loss: 0.4594 - val_accuracy: 0.7829\n",
            "Epoch 33/50\n",
            "38/38 [==============================] - 0s 2ms/step - loss: 0.4020 - accuracy: 0.8053 - val_loss: 0.4599 - val_accuracy: 0.7632\n",
            "Epoch 34/50\n",
            "38/38 [==============================] - 0s 2ms/step - loss: 0.3764 - accuracy: 0.8234 - val_loss: 0.4635 - val_accuracy: 0.7763\n",
            "Epoch 35/50\n",
            "38/38 [==============================] - 0s 2ms/step - loss: 0.4009 - accuracy: 0.8152 - val_loss: 0.4601 - val_accuracy: 0.7829\n",
            "Epoch 36/50\n",
            "38/38 [==============================] - 0s 2ms/step - loss: 0.3929 - accuracy: 0.8168 - val_loss: 0.4593 - val_accuracy: 0.7763\n",
            "Epoch 37/50\n",
            "38/38 [==============================] - 0s 2ms/step - loss: 0.4069 - accuracy: 0.7970 - val_loss: 0.4764 - val_accuracy: 0.7697\n",
            "Epoch 38/50\n",
            "38/38 [==============================] - 0s 3ms/step - loss: 0.3583 - accuracy: 0.8300 - val_loss: 0.4807 - val_accuracy: 0.7829\n",
            "Epoch 39/50\n",
            "38/38 [==============================] - 0s 2ms/step - loss: 0.3819 - accuracy: 0.8201 - val_loss: 0.4773 - val_accuracy: 0.7829\n",
            "Epoch 40/50\n",
            "38/38 [==============================] - 0s 2ms/step - loss: 0.3643 - accuracy: 0.8317 - val_loss: 0.4757 - val_accuracy: 0.7961\n",
            "Epoch 41/50\n",
            "38/38 [==============================] - 0s 2ms/step - loss: 0.3612 - accuracy: 0.8416 - val_loss: 0.4658 - val_accuracy: 0.7829\n",
            "Epoch 42/50\n",
            "38/38 [==============================] - 0s 2ms/step - loss: 0.4004 - accuracy: 0.8201 - val_loss: 0.4659 - val_accuracy: 0.7763\n",
            "Epoch 43/50\n",
            "38/38 [==============================] - 0s 2ms/step - loss: 0.3418 - accuracy: 0.8416 - val_loss: 0.4615 - val_accuracy: 0.7829\n",
            "Epoch 44/50\n",
            "38/38 [==============================] - 0s 2ms/step - loss: 0.3655 - accuracy: 0.8350 - val_loss: 0.4712 - val_accuracy: 0.7829\n",
            "Epoch 45/50\n",
            "38/38 [==============================] - 0s 2ms/step - loss: 0.3674 - accuracy: 0.8432 - val_loss: 0.4596 - val_accuracy: 0.7763\n",
            "Epoch 46/50\n",
            "38/38 [==============================] - 0s 2ms/step - loss: 0.3525 - accuracy: 0.8482 - val_loss: 0.4535 - val_accuracy: 0.7895\n",
            "Epoch 47/50\n",
            "38/38 [==============================] - 0s 2ms/step - loss: 0.3551 - accuracy: 0.8416 - val_loss: 0.4807 - val_accuracy: 0.7763\n",
            "Epoch 48/50\n",
            "38/38 [==============================] - 0s 2ms/step - loss: 0.3617 - accuracy: 0.8333 - val_loss: 0.4675 - val_accuracy: 0.7961\n",
            "Epoch 49/50\n",
            "38/38 [==============================] - 0s 2ms/step - loss: 0.3727 - accuracy: 0.8284 - val_loss: 0.4629 - val_accuracy: 0.7895\n",
            "Epoch 50/50\n",
            "38/38 [==============================] - 0s 2ms/step - loss: 0.3733 - accuracy: 0.8399 - val_loss: 0.4687 - val_accuracy: 0.8026\n"
          ],
          "name": "stdout"
        }
      ]
    },
    {
      "cell_type": "markdown",
      "metadata": {
        "id": "3a4vbKI_z-oe"
      },
      "source": [
        "VAMOS PÔR ISSO EM GRÁFICO???"
      ]
    },
    {
      "cell_type": "code",
      "metadata": {
        "id": "xsdXaGgG0EHx",
        "outputId": "202bcc24-f2be-486d-d29e-9a68a4e4ebb5",
        "colab": {
          "base_uri": "https://localhost:8080/",
          "height": 737
        }
      },
      "source": [
        "import matplotlib.pyplot as plt\n",
        "\n",
        "loss, acc = model.evaluate(x_test, to_categorical(y_test))\n",
        "print('\\n ** Loss = %s; Acc = %s.' % (loss,acc))\n",
        "\n",
        "preds = model.predict_classes(\n",
        "  x_test\n",
        ")\n",
        "print(preds)\n",
        "print(y_test)\n",
        "\n",
        "plt.plot(history.history['accuracy'])\n",
        "plt.plot(history.history['val_accuracy'])\n",
        "plt.title('Model accuracy')\n",
        "plt.ylabel('Accuracy')\n",
        "plt.xlabel('Epoch')\n",
        "plt.legend(['Train', 'Test'], loc='upper left')\n",
        "plt.show()\n",
        "\n",
        "plt.plot(history.history['loss'])\n",
        "plt.plot(history.history['val_loss']) \n",
        "plt.title('Model loss') \n",
        "plt.ylabel('Loss') \n",
        "plt.xlabel('Epoch') \n",
        "plt.legend(['Train', 'Test'], loc='upper left') \n",
        "plt.show()"
      ],
      "execution_count": 5,
      "outputs": [
        {
          "output_type": "stream",
          "text": [
            "1/1 [==============================] - 0s 1ms/step - loss: 0.1971 - accuracy: 1.0000\n",
            "\n",
            " ** Loss = 0.19710609316825867; Acc = 1.0.\n",
            "WARNING:tensorflow:From <ipython-input-5-44e51679da46>:7: Sequential.predict_classes (from tensorflow.python.keras.engine.sequential) is deprecated and will be removed after 2021-01-01.\n",
            "Instructions for updating:\n",
            "Please use instead:* `np.argmax(model.predict(x), axis=-1)`,   if your model does multi-class classification   (e.g. if it uses a `softmax` last-layer activation).* `(model.predict(x) > 0.5).astype(\"int32\")`,   if your model does binary classification   (e.g. if it uses a `sigmoid` last-layer activation).\n",
            "[0 1 0 1 0 0 0 0 1 0]\n",
            "(0, 1, 0, 1, 0, 0, 0, 0, 1, 0)\n"
          ],
          "name": "stdout"
        },
        {
          "output_type": "display_data",
          "data": {
            "image/png": "[encoded data removed]",
            "text/plain": [
              "<Figure size 432x288 with 1 Axes>"
            ]
          },
          "metadata": {
            "tags": [],
            "needs_background": "light"
          }
        },
        {
          "output_type": "display_data",
          "data": {
            "image/png": "[encoded data removed]",
            "text/plain": [
              "<Figure size 432x288 with 1 Axes>"
            ]
          },
          "metadata": {
            "tags": [],
            "needs_background": "light"
          }
        }
      ]
    },
    {
      "cell_type": "markdown",
      "metadata": {
        "id": "9CpQrAAwHt_q"
      },
      "source": [
        "F1 EVALUATION"
      ]
    },
    {
      "cell_type": "code",
      "metadata": {
        "id": "x4npoeUQHwJ4",
        "outputId": "42b9ca42-6d33-497c-f7bf-2a787e624bf4",
        "colab": {
          "base_uri": "https://localhost:8080/",
          "height": 371
        }
      },
      "source": [
        "import sklearn\n",
        "from sklearn import metrics\n",
        "\n",
        "def FScoreCalc(y_test, x_test, model):\n",
        "\n",
        "    probsp = np.argmax(model.predict(x_test), axis=-1)\n",
        "\n",
        "    f_1_score = sklearn.metrics.f1_score(y_test, probsp)\n",
        "    f_001_score = sklearn.metrics.fbeta_score(y_test, probsp, beta=0.01)\n",
        "    \n",
        "    print('\\n ** F1_Score: %s, F0.01_Score: %s' % (f_1_score, f_001_score))\n",
        "    return [f_1_score, f_001_score]\n",
        "\n",
        "def ROCCurveCalculate(y_test, x_test, model):\n",
        "\n",
        "    probs = model.predict(x_test)\n",
        "    probsp = probs[:, 1]\n",
        "    y_new = y_test\n",
        "    thres = 1000\n",
        "\n",
        "    threshold_v = np.linspace(1, 0, thres)\n",
        "    tpr, fpr = ([] for i in range(2))\n",
        "    \n",
        "    for tt in range(0, len(threshold_v), 1):\n",
        "        thresh = threshold_v[tt]\n",
        "        TPscore, FPscore, TNscore, FNscore = (0 for i in range(4))\n",
        "        for xz in range(0, len(probsp), 1):\n",
        "            if probsp[xz] > thresh:\n",
        "                if y_new[xz] == 1:                \n",
        "                    TPscore = TPscore + 1\n",
        "                else:\n",
        "                    FPscore = FPscore + 1\n",
        "            else:\n",
        "                if y_new[xz] == 0:\n",
        "                    TNscore = TNscore + 1\n",
        "                else:\n",
        "                    FNscore = FNscore + 1\n",
        "        TPRate = TPscore / (TPscore + FNscore)\n",
        "        FPRate = FPscore / (FPscore + TNscore)\n",
        "        tpr.append(TPRate)\n",
        "        fpr.append(FPRate)           \n",
        "\n",
        "    auc = metrics.auc(fpr, tpr)\n",
        "    print('\\n ** AUC (via metrics.auc): %s' % (auc))\n",
        "    return [tpr, fpr, auc]\n",
        "\n",
        "f_1_score, f_001_score = FScoreCalc(y_test, x_test, model)\n",
        "tpr, fpr, auc = ROCCurveCalculate(y_test, x_test, model)\n",
        "\n",
        "plt.figure()\n",
        "plt.plot([0, 1], [0, 1], 'k--') # k = color black\n",
        "plt.plot(fpr, tpr, label=\"& AUC: %.3f\" % auc, linewidth=3) \n",
        "plt.legend(loc='lower right', ncol=1, mode=\"expand\")\n",
        "plt.title('ROC Curve')\n",
        "plt.xlabel('false positive rate', fontsize=14)\n",
        "plt.ylabel('true positive rate', fontsize=14)\n",
        "plt.show()"
      ],
      "execution_count": 6,
      "outputs": [
        {
          "output_type": "stream",
          "text": [
            "\n",
            " ** F1_Score: 1.0, F0.01_Score: 1.0\n",
            "\n",
            " ** AUC (via metrics.auc): 1.0\n"
          ],
          "name": "stdout"
        },
        {
          "output_type": "display_data",
          "data": {
            "image/png": "[encoded data removed]",
            "text/plain": [
              "<Figure size 432x288 with 1 Axes>"
            ]
          },
          "metadata": {
            "tags": [],
            "needs_background": "light"
          }
        }
      ]
    },
    {
      "cell_type": "markdown",
      "metadata": {
        "id": "fASPR3t5vO6D"
      },
      "source": [
        "WHAT ABOUT IF WE CALCULATE THE ROC FOR THOSE TRAINING SAMPLES?"
      ]
    },
    {
      "cell_type": "code",
      "metadata": {
        "id": "zkt7A4TevTyJ",
        "outputId": "fb223033-3f9d-400c-b16b-74168e2422f7",
        "colab": {
          "base_uri": "https://localhost:8080/",
          "height": 335
        }
      },
      "source": [
        "y_data = y_data[:,1]\n",
        "tpr, fpr, auc = ROCCurveCalculate(y_data, x_data, model)\n",
        "\n",
        "plt.figure()\n",
        "plt.plot([0, 1], [0, 1], 'k--') # k = color black\n",
        "plt.plot(fpr, tpr, label=\"& AUC: %.3f\" % auc, linewidth=3) \n",
        "plt.legend(loc='lower right', ncol=1, mode=\"expand\")\n",
        "plt.title('ROC Curve')\n",
        "plt.xlabel('false positive rate', fontsize=14)\n",
        "plt.ylabel('true positive rate', fontsize=14)\n",
        "plt.show()"
      ],
      "execution_count": 7,
      "outputs": [
        {
          "output_type": "stream",
          "text": [
            "\n",
            " ** AUC (via metrics.auc): 0.9407707910750506\n"
          ],
          "name": "stdout"
        },
        {
          "output_type": "display_data",
          "data": {
            "image/png": "[encoded data removed]",
            "text/plain": [
              "<Figure size 432x288 with 1 Axes>"
            ]
          },
          "metadata": {
            "tags": [],
            "needs_background": "light"
          }
        }
      ]
    }
  ]
}
